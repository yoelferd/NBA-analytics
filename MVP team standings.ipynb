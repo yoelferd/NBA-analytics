{
 "cells": [
  {
   "cell_type": "code",
   "execution_count": 1,
   "metadata": {
    "scrolled": true
   },
   "outputs": [
    {
     "name": "stderr",
     "output_type": "stream",
     "text": [
      "/Users/crazyforcandy1234/anaconda3/lib/python3.6/site-packages/matplotlib/cbook/deprecation.py:107: MatplotlibDeprecationWarning: Adding an axes using the same arguments as a previous axes currently reuses the earlier instance.  In a future version, a new instance will always be created and returned.  Meanwhile, this warning can be suppressed, and the future behavior ensured, by passing a unique label to each axes instance.\n",
      "  warnings.warn(message, mplDeprecation, stacklevel=1)\n"
     ]
    },
    {
     "data": {
      "text/plain": [
       "<Figure size 640x480 with 1 Axes>"
      ]
     },
     "metadata": {},
     "output_type": "display_data"
    }
   ],
   "source": [
    "import numpy as np\n",
    "import matplotlib.pyplot as plt\n",
    "\n",
    "a = np.hstack(([1]*18,[2]*6,[3]*5,[4]*1,[7]*1,[10]*1))\n",
    "np.diff(np.unique(a)).min()\n",
    "plt.hist(a, bins=np.arange(11.5)-0.5)  # arguments are passed to np.histogram\n",
    "plt.title(\"Overall League Standing of MVP's team since 1987\")\n",
    "plt.xticks([i for i in range(11)])\n",
    "plt.yticks([i for i in range(19)][::2])\n",
    "plt.xlim(0.1,10.8)\n",
    "plt.xlabel(\"Overall Team Standing\")\n",
    "plt.ylabel(\"Frequency\")\n",
    "ax=plt.subplot()\n",
    "ax.annotate(\"Westbrook/OKC, '17 (HOU '19 so far)\", xy=(10, 1), xytext=(4, 14.5),color='blue',\n",
    "            arrowprops=dict(facecolor='blue', shrink=0.05),\n",
    "            )\n",
    "ax.annotate(\"Michael Jordan/Bulls in '88 (35PPG)\", xy=(7, 1), xytext=(3.5, 10),color='red',\n",
    "            arrowprops=dict(facecolor='red', shrink=0.05),\n",
    "            )\n",
    "plt.show()"
   ]
  },
  {
   "cell_type": "code",
   "execution_count": 15,
   "metadata": {},
   "outputs": [
    {
     "name": "stderr",
     "output_type": "stream",
     "text": [
      "/Users/crazyforcandy1234/anaconda3/lib/python3.6/site-packages/matplotlib/cbook/deprecation.py:107: MatplotlibDeprecationWarning: Adding an axes using the same arguments as a previous axes currently reuses the earlier instance.  In a future version, a new instance will always be created and returned.  Meanwhile, this warning can be suppressed, and the future behavior ensured, by passing a unique label to each axes instance.\n",
      "  warnings.warn(message, mplDeprecation, stacklevel=1)\n"
     ]
    },
    {
     "data": {
      "image/png": "[encoded data removed]",
      "text/plain": [
       "<Figure size 432x288 with 1 Axes>"
      ]
     },
     "metadata": {},
     "output_type": "display_data"
    }
   ],
   "source": [
    "a = np.hstack(([1]*24,[2]*6,[3]*1,[6]*1))\n",
    "np.diff(np.unique(a)).min()\n",
    "plt.hist(a, bins=np.arange(7.5)-0.5)  # arguments are passed to np.histogram\n",
    "plt.title(\"Conference Standing of MVP's team since 1987\")\n",
    "plt.xticks([i for i in range(7)])\n",
    "plt.yticks([i for i in range(25)][::2])\n",
    "plt.xlim(0.2,6.8)\n",
    "plt.xlabel(\"Conference Standing\")\n",
    "plt.ylabel(\"Frequency\")\n",
    "ax=plt.subplot()\n",
    "ax.annotate(\"Harden/Rockets '19 as of 3/12\", xy=(3.1, .5), xytext=(2.2, 17),color='green',\n",
    "            arrowprops=dict(facecolor='green', shrink=0.05),\n",
    "            )\n",
    "ax.annotate(\"Westbrook/OKC '17\", xy=(6, .5), xytext=(4.1, 22),color='blue',\n",
    "            arrowprops=dict(facecolor='blue', shrink=0.05),\n",
    "            )\n",
    "ax.annotate(\"Jordan/Bulls '88\", xy=(3, .8), xytext=(1.85, 13),color='red',\n",
    "            arrowprops=dict(facecolor='red', shrink=0.05),\n",
    "            )\n",
    "plt.show()"
   ]
  },
  {
   "cell_type": "code",
   "execution_count": null,
   "metadata": {},
   "outputs": [],
   "source": [
    "'''\n",
    "2006:\n",
    "Kobe averaged 35.4 PPG (5/4.5 reb/ast), broke scoring records like Harden\n",
    "Iverson averaged 33 PPG (3/7.5 reb/ast)\n",
    "Suns were 3rd overall, 2nd in West\n",
    "Lakers were 11th overall, and 7th in West\n",
    "76ers were 18th overall, 9th in east\n",
    "Nash won MVP, Kobe got 4th place in votes, Iverson got 10th place\n",
    "\n",
    "2007:\n",
    "Lakers were 12th overall, 7th in west Kobe scored 31.6, 3rd in MVP vote\n",
    "\n",
    "1986-7: Michael Jordan had 37PPG\n",
    "Bulls were 14th overall, 8th in east\n",
    "Lakers were 1st\n",
    "Magic won, MJ got 2nd place in votes.\n",
    "\n",
    "1989-90: Michael Jordan had 33.57 PPG\n",
    "Lakers were 1st\n",
    "Bulls were 6th overall, 3rd in east\n",
    "Magic won. Michael was 3rd in votes.\n",
    "\n",
    "2019: Giannis/Bucks are 1st and projected to stay 1st in NBA\n",
    "Harden/Rockets are 10th overall, 5th in west, projected to be 7th overall, 3rd or 4th in west.\n",
    "For Harden to win it would be unlikely given this data.\n",
    "'''"
   ]
  },
  {
   "cell_type": "code",
   "execution_count": null,
   "metadata": {},
   "outputs": [],
   "source": []
  }
 ],
 "metadata": {
  "kernelspec": {
   "display_name": "Python 3",
   "language": "python",
   "name": "python3"
  },
  "language_info": {
   "codemirror_mode": {
    "name": "ipython",
    "version": 3
   },
   "file_extension": ".py",
   "mimetype": "text/x-python",
   "name": "python",
   "nbconvert_exporter": "python",
   "pygments_lexer": "ipython3",
   "version": "3.6.5"
  }
 },
 "nbformat": 4,
 "nbformat_minor": 2
}
